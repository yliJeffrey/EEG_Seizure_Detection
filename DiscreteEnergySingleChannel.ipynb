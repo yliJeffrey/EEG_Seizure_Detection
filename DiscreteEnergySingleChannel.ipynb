{
 "cells": [
  {
   "cell_type": "code",
   "execution_count": 21,
   "metadata": {},
   "outputs": [],
   "source": [
    "#Code for binary search to more efficiently calculate Hausdorff dimension"
   ]
  },
  {
   "cell_type": "code",
   "execution_count": 22,
   "metadata": {
    "colab": {
     "base_uri": "https://localhost:8080/"
    },
    "id": "ay9mcPnPhFVI",
    "outputId": "90b27159-13fe-47fa-a58a-31fb17013dd5"
   },
   "outputs": [
    {
     "name": "stdout",
     "output_type": "stream",
     "text": [
      "Requirement already satisfied: mne in /opt/anaconda3/envs/medical-data-processing/lib/python3.11/site-packages (1.10.0)\n",
      "Requirement already satisfied: decorator in /opt/anaconda3/envs/medical-data-processing/lib/python3.11/site-packages (from mne) (5.2.1)\n",
      "Requirement already satisfied: jinja2 in /opt/anaconda3/envs/medical-data-processing/lib/python3.11/site-packages (from mne) (3.1.6)\n",
      "Requirement already satisfied: lazy-loader>=0.3 in /opt/anaconda3/envs/medical-data-processing/lib/python3.11/site-packages (from mne) (0.4)\n",
      "Requirement already satisfied: matplotlib>=3.7 in /opt/anaconda3/envs/medical-data-processing/lib/python3.11/site-packages (from mne) (3.10.3)\n",
      "Requirement already satisfied: numpy<3,>=1.25 in /opt/anaconda3/envs/medical-data-processing/lib/python3.11/site-packages (from mne) (2.1.3)\n",
      "Requirement already satisfied: packaging in /opt/anaconda3/envs/medical-data-processing/lib/python3.11/site-packages (from mne) (25.0)\n",
      "Requirement already satisfied: pooch>=1.5 in /opt/anaconda3/envs/medical-data-processing/lib/python3.11/site-packages (from mne) (1.8.2)\n",
      "Requirement already satisfied: scipy>=1.11 in /opt/anaconda3/envs/medical-data-processing/lib/python3.11/site-packages (from mne) (1.16.1)\n",
      "Requirement already satisfied: tqdm in /opt/anaconda3/envs/medical-data-processing/lib/python3.11/site-packages (from mne) (4.67.1)\n",
      "Requirement already satisfied: contourpy>=1.0.1 in /opt/anaconda3/envs/medical-data-processing/lib/python3.11/site-packages (from matplotlib>=3.7->mne) (1.3.3)\n",
      "Requirement already satisfied: cycler>=0.10 in /opt/anaconda3/envs/medical-data-processing/lib/python3.11/site-packages (from matplotlib>=3.7->mne) (0.12.1)\n",
      "Requirement already satisfied: fonttools>=4.22.0 in /opt/anaconda3/envs/medical-data-processing/lib/python3.11/site-packages (from matplotlib>=3.7->mne) (4.59.0)\n",
      "Requirement already satisfied: kiwisolver>=1.3.1 in /opt/anaconda3/envs/medical-data-processing/lib/python3.11/site-packages (from matplotlib>=3.7->mne) (1.4.8)\n",
      "Requirement already satisfied: pillow>=8 in /opt/anaconda3/envs/medical-data-processing/lib/python3.11/site-packages (from matplotlib>=3.7->mne) (11.3.0)\n",
      "Requirement already satisfied: pyparsing>=2.3.1 in /opt/anaconda3/envs/medical-data-processing/lib/python3.11/site-packages (from matplotlib>=3.7->mne) (3.2.3)\n",
      "Requirement already satisfied: python-dateutil>=2.7 in /opt/anaconda3/envs/medical-data-processing/lib/python3.11/site-packages (from matplotlib>=3.7->mne) (2.9.0.post0)\n",
      "Requirement already satisfied: platformdirs>=2.5.0 in /opt/anaconda3/envs/medical-data-processing/lib/python3.11/site-packages (from pooch>=1.5->mne) (4.3.8)\n",
      "Requirement already satisfied: requests>=2.19.0 in /opt/anaconda3/envs/medical-data-processing/lib/python3.11/site-packages (from pooch>=1.5->mne) (2.32.4)\n",
      "Requirement already satisfied: six>=1.5 in /opt/anaconda3/envs/medical-data-processing/lib/python3.11/site-packages (from python-dateutil>=2.7->matplotlib>=3.7->mne) (1.17.0)\n",
      "Requirement already satisfied: charset_normalizer<4,>=2 in /opt/anaconda3/envs/medical-data-processing/lib/python3.11/site-packages (from requests>=2.19.0->pooch>=1.5->mne) (3.4.2)\n",
      "Requirement already satisfied: idna<4,>=2.5 in /opt/anaconda3/envs/medical-data-processing/lib/python3.11/site-packages (from requests>=2.19.0->pooch>=1.5->mne) (3.10)\n",
      "Requirement already satisfied: urllib3<3,>=1.21.1 in /opt/anaconda3/envs/medical-data-processing/lib/python3.11/site-packages (from requests>=2.19.0->pooch>=1.5->mne) (2.5.0)\n",
      "Requirement already satisfied: certifi>=2017.4.17 in /opt/anaconda3/envs/medical-data-processing/lib/python3.11/site-packages (from requests>=2.19.0->pooch>=1.5->mne) (2025.7.14)\n",
      "Requirement already satisfied: MarkupSafe>=2.0 in /opt/anaconda3/envs/medical-data-processing/lib/python3.11/site-packages (from jinja2->mne) (3.0.2)\n"
     ]
    }
   ],
   "source": [
    "!pip install mne"
   ]
  },
  {
   "cell_type": "code",
   "execution_count": 23,
   "metadata": {
    "id": "p_l6UxoU-xmd"
   },
   "outputs": [],
   "source": [
    "import math as mth\n",
    "import mne as mne\n",
    "import numpy as np\n",
    "import numpy.ma as ma\n",
    "import matplotlib.pyplot as plt"
   ]
  },
  {
   "cell_type": "code",
   "execution_count": 24,
   "metadata": {
    "id": "N80z7nGefgUs"
   },
   "outputs": [],
   "source": [
    "#Parameters\n",
    "  #P: nxd ndarray of n d-dimensional datapoints\n",
    "  #s: real nonegative float s\n",
    "#Returns:\n",
    "  #discSEnergy: Float containing the discrete-s energy of P\n",
    "  #s parameter\n",
    "\n",
    "def DiscreteSEnergy(P, s):\n",
    "  n = np.shape(P)[0]\n",
    "\n",
    "  [Rows, Columns] = np.indices((n,n))\n",
    "\n",
    "  VecDiff = np.abs(P[Rows,:] - P[Columns,:])\n",
    "\n",
    "  MagDiff = np.power(np.sum(np.power(VecDiff,2), axis=2),1/2) #here we use L2 norm (Euclidean distance in Rd) to find vector magnitude\n",
    "\n",
    "  Diff= np.triu(MagDiff) #remove duplicate differences by considering only those differences above the main diagonal\n",
    "  MaskedDiff = ma.masked_where(Diff==0, Diff, copy=True) #mask all zero differences so we are not dividing by zero\n",
    "\n",
    "  SumMat = np.ma.power(MaskedDiff, -s)\n",
    "  sum = np.sum(np.sum(SumMat))\n",
    "\n",
    "  discSEnergy = np.power(float(n), -2)*sum\n",
    "  return[discSEnergy, s]"
   ]
  },
  {
   "cell_type": "code",
   "execution_count": 25,
   "metadata": {
    "id": "ioSb4Wts-ppG"
   },
   "outputs": [],
   "source": [
    "#Parameters\n",
    "  #n: positive integer representing number of samples\n",
    "  #t: postive float representing length of time interval [0,t] samples are scaled to (I default to t=1)\n",
    "  #h: float greater than 0 and less than 1 representing the Hurst Exponent, which uniquely specifies an dBM distribution. h=1/2 yields classic Brownian motion\n",
    "#Returns:\n",
    "  #fBM: an (n,1) dimensional nparray of fractional brownian motion samples generated with Hurst exponent h using Cholesky's Method,\n",
    "  #timeArray: an (n,1) dimensional array of times each sample is taken at\n",
    "  #h: the input hurst exponent parameter\n",
    "\n",
    "def FBM(n, t, h):\n",
    "  CovMat = np.ones((n, n)) #covariance matrix of the Gaussian series (X1 = fB_h(1), X2= fB_h(2)-fB_h(1),..., XN = fB_h(N)-fB_h(N-1)), called fractional Gaussian noise. These are easier to simulate as increments of fBM are stationary\n",
    "\n",
    "  [Rows, Columns] = np.indices((n,n))\n",
    "  AbsDiff = np.abs(Rows-Columns)\n",
    "\n",
    "  ind = np.diag_indices_from(AbsDiff)\n",
    "  AbsDiff[ind] = 1 #diagonal values don't matter so replace with one to avoid any possible square root of negative one errors\n",
    "\n",
    "  CovMat = 1/2*(np.power(AbsDiff+1, 2*h) + np.power(AbsDiff-1, 2*h) - 2*np.power(AbsDiff, 2*h)) #covariance matrix of fractional Gaussian noise can be derived from the covariance matrix of fBM(fB_h(i)-fB_h(i-1), fB_h(j)-fB_h(j-1)) = i^2h + j^2h - |i-j|^2h\n",
    "\n",
    "  ind = np.diag_indices_from(CovMat)\n",
    "  CovMat[ind] = 1 #variance of each variable is one, so diagonal of covariance matrix must be one\n",
    "\n",
    "  L = np.linalg.cholesky(CovMat)#covariance matricies are positive definite by construction so CovMat can be decomposed CovMat = LL' where L is lower triangular\n",
    "  v = np.random.normal(0,1,(n,1)) #vector of independent standard normal variables\n",
    "  fGN = np.dot(L,v)\n",
    "\n",
    "  fBM = np.zeros((n, 1))\n",
    "  timeArray = np.ones((n, 1))\n",
    "  FBMMat = np.zeros((n,2))\n",
    "\n",
    "  fBM[0,0] = fGN[0,0]\n",
    "  for i in range (1,n):\n",
    "    timeArray[i-1,0] = i*(t/n) # time each sample is taken at in the time interval [0,t]\n",
    "    fBM[i,0] = fBM[i-1,0] + fGN[i,0]  #calculate Brownian motion as the cumulateive sum of the fGN increments up to that point\n",
    "\n",
    "\n",
    "  fBM = np.power(t/n,h)*fBM #use self similarity property to scale samples down to a specific time interval\n",
    "\n",
    "  FBMMat[:,0] = timeArray[:,0]\n",
    "  FBMMat[:,1] = fBM[:,0]\n",
    "\n",
    "\n",
    "  return [fBM, timeArray, FBMMat, h]"
   ]
  },
  {
   "cell_type": "code",
   "execution_count": 26,
   "metadata": {
    "id": "cIYRaFXHn7lI"
   },
   "outputs": [],
   "source": [
    "#Compute Discrete Energy Curves\n",
    "#Parameters:\n",
    "  #N: total length of time series\n",
    "  #s: real nonegative float, parameter of discrete s energy\n",
    "  #TimeMat: N x 2 ndarray where TimeMat[:,0] are the times and TimeMat[:,1] are the data values indexed by time\n",
    "\n",
    "def DiscSEnergyCurves(maxN, s, TimeMat, noSamples):\n",
    "  timeArray = TimeMat[:,0]\n",
    "  dataArray = TimeMat[:,1]\n",
    "\n",
    "  increment = mth.floor(maxN/noSamples)\n",
    "\n",
    "  nArray  = np.zeros((noSamples,1))\n",
    "  discSEnergyArray = np.zeros((noSamples,1))\n",
    "\n",
    "  i = 0\n",
    "\n",
    "  for n in range (increment, maxN+increment, increment):\n",
    "\n",
    "    [indexFloat, ignore] = (maxN/n)*(np.indices((n,1)))\n",
    "    indexFloat = np.floor((indexFloat))\n",
    "\n",
    "    indexArray = indexFloat.astype('int')\n",
    "\n",
    "    timeSubset = timeArray[indexArray]\n",
    "    #print(timeSubset)\n",
    "    timeSubset = timeSubset[:,0]\n",
    "\n",
    "    dataSubset = dataArray[indexArray]\n",
    "    dataSubset = dataSubset[:,0]\n",
    "\n",
    "    TimeSubset = np.zeros((n,2))\n",
    "    TimeSubset[:,0] = timeSubset\n",
    "    TimeSubset[:,1] = dataSubset\n",
    "\n",
    "    [discSEnergy, s] = DiscreteSEnergy(TimeSubset, s)\n",
    "\n",
    "    nArray[i,0] = n\n",
    "    discSEnergyArray[i,0] = discSEnergy\n",
    "\n",
    "    i=i+1\n",
    "\n",
    "  return [nArray, discSEnergyArray]"
   ]
  },
  {
   "cell_type": "code",
   "execution_count": 27,
   "metadata": {
    "id": "U7SNNcTJtpYw"
   },
   "outputs": [],
   "source": [
    "#Fractional Brownian Motion Discrete S Energy Curve Trials\n",
    "\n",
    "maxN = 2**8\n",
    "t = 1\n",
    "h=1/2\n",
    "\n",
    "s=2-h #expected critical value\n",
    "#s =2 #s too large for any hurst exponent h in (0,1)\n",
    "#s =1 #s too small for any hurst exponent h in (0,1)\n",
    "\n",
    "[fBM, timeArray, FBMMat, h] = FBM(maxN,t,h)\n",
    "\n",
    "noSamples = mth.floor(maxN/2)\n",
    "\n",
    "[nArray, discSEnergyArray] = DiscSEnergyCurves(maxN, s, FBMMat, noSamples)"
   ]
  },
  {
   "cell_type": "code",
   "execution_count": 28,
   "metadata": {
    "colab": {
     "base_uri": "https://localhost:8080/",
     "height": 489
    },
    "id": "VF_3hC6nfeRP",
    "outputId": "33505885-d7da-4e69-cf42-e5e49d6e6444"
   },
   "outputs": [
    {
     "data": {
      "text/plain": [
       "Text(0.5, 1.0, 'Discrete Energy Curve of Bh(t), s = 2 > 2-h = 2-0.5 = 1.5 ')"
      ]
     },
     "execution_count": 28,
     "metadata": {},
     "output_type": "execute_result"
    },
    {
     "data": {
      "image/png": "[encoded data removed]",
      "text/plain": [
       "<Figure size 640x480 with 1 Axes>"
      ]
     },
     "metadata": {},
     "output_type": "display_data"
    }
   ],
   "source": [
    "plt.plot(nArray, discSEnergyArray)\n",
    "plt.xlabel('Number of Points')\n",
    "plt.ylabel('Discrete S energy')\n",
    "plt.title(\"Discrete Energy Curve of Bh(t), s = 2 > 2-h = 2-0.5 = 1.5 \")"
   ]
  },
  {
   "cell_type": "code",
   "execution_count": 29,
   "metadata": {
    "colab": {
     "base_uri": "https://localhost:8080/"
    },
    "id": "9K6wjxBke0Vn",
    "outputId": "e3d06396-7674-4cfe-80e5-aa22f52a6743"
   },
   "outputs": [
    {
     "name": "stdout",
     "output_type": "stream",
     "text": [
      "Platform             macOS-15.5-arm64-arm-64bit\n",
      "Python               3.11.13 (main, Jun  5 2025, 08:21:08) [Clang 14.0.6 ]\n",
      "Executable           /opt/anaconda3/envs/medical-data-processing/bin/python\n",
      "CPU                  Apple M2 Pro (10 cores)\n",
      "Memory               16.0 GiB\n",
      "\n",
      "Core\n",
      "├☑ mne               1.10.0 (latest release)\n",
      "├☑ numpy             2.1.3 (unknown linalg bindings (threadpoolctl module not found: No module named 'threadpoolctl'))\n",
      "├☑ scipy             1.16.1\n",
      "└☑ matplotlib        3.10.3 (backend=module://matplotlib_inline.backend_inline)\n",
      "\n",
      "Numerical (optional)\n",
      "├☑ h5py              3.14.0\n",
      "└☐ unavailable       sklearn, numba, nibabel, nilearn, dipy, openmeeg, cupy, pandas, h5io\n",
      "\n",
      "Visualization (optional)\n",
      "└☐ unavailable       pyvista, pyvistaqt, vtk, qtpy, ipympl, pyqtgraph, mne-qt-browser, ipywidgets, trame_client, trame_server, trame_vtk, trame_vuetify\n",
      "\n",
      "Ecosystem (optional)\n",
      "└☐ unavailable       mne-bids, mne-nirs, mne-features, mne-connectivity, mne-icalabel, mne-bids-pipeline, neo, eeglabio, edfio, mffpy, pybv\n",
      "Extracting EDF parameters from /Users/lyz/Documents/VSCode_Workspace/StemForAll/Medical Data/chb01_01.edf...\n",
      "EDF file detected\n",
      "Setting channel info structure...\n",
      "Creating raw.info structure...\n"
     ]
    },
    {
     "name": "stderr",
     "output_type": "stream",
     "text": [
      "/var/folders/7v/fsvkddxs13l61jh8r5wdb54h0000gn/T/ipykernel_39342/3889348388.py:6: RuntimeWarning: Channel names are not unique, found duplicates for: {'T8-P8'}. Applying running numbers for duplicates.\n",
      "  data = mne.io.read_raw_edf(file)\n"
     ]
    }
   ],
   "source": [
    "#step 1 - isolate the seizure\n",
    "#seizing from 1467 to 1494 seconds\n",
    "mne.sys_info()\n",
    "file = r\"chb01_01.edf\"\n",
    "\n",
    "data = mne.io.read_raw_edf(file)\n",
    "\n",
    "raw = data.get_data() #numpy array\n",
    "raw_seiz = raw[:,1467*256:1494*256] #isolating specific times the patient is seizing, 256 bits of time in a seconds\n",
    "\n",
    "info = data.info\n",
    "channels=data.ch_names\n",
    "\n",
    "#info = data2.info\n",
    "#channels=data2.ch_names\n",
    "\n",
    "#info = data3.info\n",
    "#channels=data3.ch_names\n",
    "#plt.plot(raw[0][:1000])"
   ]
  },
  {
   "cell_type": "code",
   "execution_count": 30,
   "metadata": {
    "colab": {
     "base_uri": "https://localhost:8080/"
    },
    "id": "-4nT073AnFKu",
    "outputId": "68617cf4-26f7-48cf-ef90-5d1cf474bed2"
   },
   "outputs": [
    {
     "data": {
      "text/plain": [
       "(23, 6912)"
      ]
     },
     "execution_count": 30,
     "metadata": {},
     "output_type": "execute_result"
    }
   ],
   "source": [
    "np.shape(raw_seiz)"
   ]
  },
  {
   "cell_type": "code",
   "execution_count": 31,
   "metadata": {
    "colab": {
     "base_uri": "https://localhost:8080/"
    },
    "id": "HPMlC8mt3BQw",
    "outputId": "b6a49738-72bf-43bb-9eb5-a1ae54ad2a2a"
   },
   "outputs": [
    {
     "name": "stdout",
     "output_type": "stream",
     "text": [
      "(256, 2)\n"
     ]
    }
   ],
   "source": [
    "print(np.shape(FBMMat))\n",
    "# print(np.shape(DataMat))"
   ]
  },
  {
   "cell_type": "code",
   "execution_count": 32,
   "metadata": {
    "id": "-iSlmCkAnzZy"
   },
   "outputs": [],
   "source": [
    "#1 Channel Seizure EEG Discrete S Energy Curve Trials\n",
    "\n",
    "#s=1.6875\n",
    "s=1.1\n",
    "#maxN = 2**8 #one second of seizure EEG readings (sampling rate 256/s)\n",
    "maxN = 2**10 #one second of seizure EEG readings (sampling rate 256/s)\n",
    "noSamples = mth.floor(maxN/2)\n",
    "\n",
    "WholeData = raw_seiz[:,0:maxN]\n",
    "\n",
    "channelData = WholeData[0,:] #single channel time series\n",
    "\n",
    "DataMat = np.zeros((maxN,2))\n",
    "DataMat[:,0] = 1/maxN*np.arange(maxN) #normalized times\n",
    "DataMat[:,1] = 1/np.max(np.abs(channelData))* channelData #normalized channel Data\n",
    "\n",
    "[nArray, discSEnergyArray] = DiscSEnergyCurves(maxN, s, DataMat, noSamples)"
   ]
  },
  {
   "cell_type": "code",
   "execution_count": 33,
   "metadata": {
    "colab": {
     "base_uri": "https://localhost:8080/",
     "height": 489
    },
    "id": "xZbSw6Gd3QYL",
    "outputId": "88a97150-6445-4df6-e6e7-4802656175d5"
   },
   "outputs": [
    {
     "data": {
      "image/png": "[encoded data removed]",
      "text/plain": [
       "<Figure size 640x480 with 1 Axes>"
      ]
     },
     "metadata": {},
     "output_type": "display_data"
    }
   ],
   "source": [
    "def plot_curve(WholeData, s):\n",
    "    maxN = WholeData.shape[1]\n",
    "    noSamples = mth.floor(maxN/2)\n",
    "    \n",
    "    channelData = WholeData[0,:] #single channel time series\n",
    "    \n",
    "    DataMat = np.zeros((maxN,2))\n",
    "    DataMat[:,0] = 1/maxN*np.arange(maxN) #normalized times\n",
    "    DataMat[:,1] = 1/np.max(np.abs(channelData))* channelData #normalized channel Data\n",
    "    \n",
    "    nArray, discSEnergyArray = DiscSEnergyCurves(maxN, s, DataMat, noSamples)\n",
    "        \n",
    "    plt.plot(nArray, discSEnergyArray)\n",
    "    plt.xlabel('Number of Points')\n",
    "    plt.ylabel('Discrete S energy')\n",
    "    plt.title(\"Discrete Energy Curve of one channel \")\n",
    "\n",
    "plot_curve(raw_seiz[:, 5000:5000 + 2**10], 1.7)"
   ]
  },
  {
   "cell_type": "code",
   "execution_count": 34,
   "metadata": {},
   "outputs": [
    {
     "ename": "NameError",
     "evalue": "name 'hausdorff_binary_search' is not defined",
     "output_type": "error",
     "traceback": [
      "\u001b[31m---------------------------------------------------------------------------\u001b[39m",
      "\u001b[31mNameError\u001b[39m                                 Traceback (most recent call last)",
      "\u001b[36mCell\u001b[39m\u001b[36m \u001b[39m\u001b[32mIn[34]\u001b[39m\u001b[32m, line 5\u001b[39m\n\u001b[32m      3\u001b[39m motion = FBM(\u001b[32m2048\u001b[39m, \u001b[32m1\u001b[39m, \u001b[32m0.2\u001b[39m)[\u001b[32m0\u001b[39m].reshape((\u001b[32m1\u001b[39m, \u001b[32m2048\u001b[39m))[\u001b[32m0\u001b[39m] \n\u001b[32m      4\u001b[39m \u001b[38;5;66;03m#get_hurst_exponent(motion, max_lag=20)\u001b[39;00m\n\u001b[32m----> \u001b[39m\u001b[32m5\u001b[39m \u001b[43mhausdorff_binary_search\u001b[49m(motion) \u001b[38;5;66;03m#dependant on the number of points for some reason\u001b[39;00m\n",
      "\u001b[31mNameError\u001b[39m: name 'hausdorff_binary_search' is not defined"
     ]
    }
   ],
   "source": [
    "#too high prediction = raise cutoff, too low prediction = lower cutoff\n",
    "\n",
    "motion = FBM(2048, 1, 0.2)[0].reshape((1, 2048))[0] \n",
    "#get_hurst_exponent(motion, max_lag=20)\n",
    "hausdorff_binary_search(motion) #dependant on the number of points for some reason"
   ]
  },
  {
   "cell_type": "code",
   "execution_count": null,
   "metadata": {},
   "outputs": [],
   "source": [
    "def get_hurst_exponent(time_series, max_lag=20):\n",
    "    \"\"\"Returns the Hurst Exponent of the time series\"\"\"\n",
    "    \n",
    "    lags = range(2, max_lag)\n",
    "\n",
    "    # variances of the lagged differences\n",
    "    tau = [np.std(np.subtract(time_series[lag:], time_series[:-lag])) for lag in lags]\n",
    "\n",
    "    # calculate the slope of the log plot -> the Hurst Exponent\n",
    "    reg = np.polyfit(np.log(lags), np.log(tau), 1)\n",
    "\n",
    "    return reg[0]\n",
    "\n",
    "print(2 - get_hurst_exponent(raw_seiz[0, 1000:1000 + 2**10]))"
   ]
  },
  {
   "cell_type": "code",
   "execution_count": null,
   "metadata": {
    "colab": {
     "base_uri": "https://localhost:8080/",
     "height": 489
    },
    "id": "0mV2gtw5GnHK",
    "outputId": "6cce7a17-8bea-4919-93bc-a42d46e35a78"
   },
   "outputs": [],
   "source": [
    "plt.plot(nArray, discSEnergyArray)\n",
    "plt.xlabel('Number of Points')\n",
    "plt.ylabel('Discrete S energy')\n",
    "plt.title(\"Discrete Energy Curve of one channel \")"
   ]
  },
  {
   "cell_type": "code",
   "execution_count": null,
   "metadata": {},
   "outputs": [],
   "source": [
    "import math\n",
    "\n",
    "def hausdorff_binary_search(data, limits=(1, 2), resolution=0.02):\n",
    "    low, high = limits\n",
    "    while low + resolution < high: #add option to cut off search after a certain amount of time\n",
    "        s = (low + high) / 2\n",
    "        #take the average of the discrete energy of the points around the point of interest\n",
    "        energy_1 = calc_energy(data, s, math.floor(len(data) / 4))\n",
    "        energy_2 = calc_energy(data, s, len(data) - 5) #subtract the radius\n",
    "        #run the convergance test\n",
    "        #if it is evaluated to converge, low = s, else high = s\n",
    "        if energy_1 > 0.75 * energy_2:\n",
    "            low = s\n",
    "        else:\n",
    "            high = s\n",
    "    return (low + high) / 2\n",
    "\n",
    "def calc_energy(data, s, points, radius=2): #data is a 1d array\n",
    "    #need to ensure radius does not go outside of the array\n",
    "    N = len(data)\n",
    "    total_energy = 0\n",
    "    for p in range(points - radius, points + radius):\n",
    "        increment = N / p\n",
    "        indices = [math.floor(i*increment) for i in range(p)]\n",
    "        sampled_points = data[indices]\n",
    "\n",
    "        DataMat = np.zeros((p,2))\n",
    "        DataMat[:,0] = 1/p*np.arange(p) #normalized times\n",
    "        DataMat[:,1] = 1/np.max(np.abs(sampled_points))* sampled_points #normalized channel Data\n",
    "    \n",
    "        total_energy += DiscreteSEnergy(DataMat, s)[0]\n",
    "    return total_energy / (radius * 2)"
   ]
  },
  {
   "cell_type": "code",
   "execution_count": null,
   "metadata": {},
   "outputs": [],
   "source": [
    "channel = raw[0, :2048]\n",
    "binary_guess = hausdorff_binary_search(channel)\n",
    "hurst_guess = 2 - get_hurst_exponent(channel)\n",
    "print(binary_guess, hurst_guess)"
   ]
  },
  {
   "cell_type": "code",
   "execution_count": null,
   "metadata": {},
   "outputs": [],
   "source": [
    "plot_curve(raw_seiz[:, :2**10], 1.2)\n",
    "plot_curve(raw_seiz[:, :2**10], 1.3)"
   ]
  },
  {
   "cell_type": "code",
   "execution_count": null,
   "metadata": {
    "scrolled": true
   },
   "outputs": [],
   "source": [
    "#2048 length, cutoff = 0.75. Length matters for some reason\n",
    "\n",
    "error = 0\n",
    "test_hursts = np.random.rand(50)\n",
    "for i in range(len(test_hursts)):\n",
    "    hurst = test_hursts[i]\n",
    "    motion = FBM(2048, 1, hurst)[0].reshape((1, 2048))[0]\n",
    "    binary_guess = hausdorff_binary_search(motion)\n",
    "    error += abs(binary_guess - (2 - hurst))\n",
    "    print(i, abs(binary_guess - (2 - hurst)))\n",
    "\n",
    "print(error / len(test_hursts))"
   ]
  },
  {
   "cell_type": "code",
   "execution_count": null,
   "metadata": {
    "scrolled": true
   },
   "outputs": [],
   "source": [
    "log = []\n",
    "for i in range(50):\n",
    "    channel = raw[0, i * 2048:(i + 1) * 2048]\n",
    "    binary_guess = hausdorff_binary_search(channel)\n",
    "    hurst_guess = 2 - get_hurst_exponent(channel)\n",
    "    log.append((binary_guess, hurst_guess))\n",
    "    print(i, log[i])"
   ]
  },
  {
   "cell_type": "code",
   "execution_count": null,
   "metadata": {},
   "outputs": [],
   "source": [
    "import matplotlib.pyplot as plt\n",
    "plt.plot([i for i, j in log])\n",
    "plt.plot([j for i, j in log])"
   ]
  },
  {
   "cell_type": "code",
   "execution_count": null,
   "metadata": {},
   "outputs": [],
   "source": [
    "plt.plot(raw[0, :50*2048])\n",
    "plt.plot([i*2048 for i in range(50)], [i / 800 - .002 for i, j in log])\n",
    "plt.plot([i*2048 for i in range(50)], [j / 800 - .002 for i, j in log])"
   ]
  },
  {
   "cell_type": "code",
   "execution_count": null,
   "metadata": {},
   "outputs": [],
   "source": [
    "fig, ax1 = plt.subplots()\n",
    "\n",
    "color = 'tab:blue'\n",
    "ax1.set_xlabel('Time')\n",
    "ax1.set_ylabel('Voltage')\n",
    "ax1.plot(raw[0, :50*2048], color=color)\n",
    "ax1.tick_params(axis='y')\n",
    "\n",
    "ax2 = ax1.twinx()  # instantiate a second Axes that shares the same x-axis\n",
    "\n",
    "color = 'tab:orange'\n",
    "ax2.set_ylabel('Estimated Hausdorff Dimension')  # we already handled the x-label with ax1\n",
    "ax2.plot([i*2048 for i in range(50)], [i for i, j in log], color=color)\n",
    "color = 'tab:green'\n",
    "ax2.plot([i*2048 for i in range(50)], [j for i, j in log], color=color)\n",
    "ax2.tick_params(axis='y')\n",
    "\n",
    "fig.tight_layout()  # otherwise the right y-label is slightly clipped\n",
    "plt.show()"
   ]
  },
  {
   "cell_type": "code",
   "execution_count": null,
   "metadata": {},
   "outputs": [],
   "source": [
    "plot_curve(raw[:, :2**11], 1.4)\n",
    "plot_curve(raw[:, :2**11], 1.5)"
   ]
  },
  {
   "cell_type": "code",
   "execution_count": null,
   "metadata": {},
   "outputs": [],
   "source": [
    "#T-tests\n",
    "import pickle\n",
    "\n",
    "seizure_times = pickle.load(open(\"seizure_times.pkl\", \"rb\"))\n",
    "seizure_data = []\n",
    "non_seizure_data = []\n",
    "for file in seizure_times.keys():\n",
    "    data = mne.io.read_raw_edf(\"chb-mit-scalp-eeg-database-1.0.0\\\\\" + file)\n",
    "    raw = data.get_data()\n",
    "    start, end = seizure_times[file][0]\n",
    "    midpoint = (start + end) // 2\n",
    "    if midpoint + 8 < end:\n",
    "        seizure_data.append(raw[0, midpoint*256:midpoint*256 + 2048])\n",
    "    non_seizure_data.append(raw[0, 30*256:38*256])"
   ]
  },
  {
   "cell_type": "code",
   "execution_count": null,
   "metadata": {
    "scrolled": true
   },
   "outputs": [],
   "source": [
    "seizure_dims = []\n",
    "for i in range(len(seizure_data)):\n",
    "    seizure_dims.append(hausdorff_binary_search(seizure_data[i]))\n",
    "    print(i)\n",
    "non_seizure_dims = []\n",
    "for i in range(len(non_seizure_data)):\n",
    "    non_seizure_dims.append(hausdorff_binary_search(non_seizure_data[i]))\n",
    "    print(i)"
   ]
  },
  {
   "cell_type": "code",
   "execution_count": null,
   "metadata": {},
   "outputs": [],
   "source": [
    "print(f\"Average Hausdorff dimension for 121 \\nsampled time periods during seizures:     {sum(seizure_dims) / 121}\")\n",
    "print(f\"Average Hausdorff dimension for 140 \\nsampled time periods not during seizures: {sum(non_seizure_dims) / 140}\")"
   ]
  }
 ],
 "metadata": {
  "colab": {
   "provenance": []
  },
  "kernelspec": {
   "display_name": "medical-data-processing",
   "language": "python",
   "name": "python3"
  },
  "language_info": {
   "codemirror_mode": {
    "name": "ipython",
    "version": 3
   },
   "file_extension": ".py",
   "mimetype": "text/x-python",
   "name": "python",
   "nbconvert_exporter": "python",
   "pygments_lexer": "ipython3",
   "version": "3.11.13"
  }
 },
 "nbformat": 4,
 "nbformat_minor": 4
}
